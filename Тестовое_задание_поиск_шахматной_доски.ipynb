{
  "nbformat": 4,
  "nbformat_minor": 0,
  "metadata": {
    "colab": {
      "name": "Тестовое задание поиск шахматной доски пилотная точность",
      "provenance": [],
      "authorship_tag": "ABX9TyMYECsTotNL47mXwsrUlBZV",
      "include_colab_link": true
    },
    "kernelspec": {
      "name": "python3",
      "display_name": "Python 3"
    },
    "language_info": {
      "name": "python"
    },
    "accelerator": "GPU"
  },
  "cells": [
    {
      "cell_type": "markdown",
      "metadata": {
        "id": "view-in-github",
        "colab_type": "text"
      },
      "source": [
        "<a href=\"https://colab.research.google.com/github/xedinseu/detection-of-chess-board/blob/main/%D0%A2%D0%B5%D1%81%D1%82%D0%BE%D0%B2%D0%BE%D0%B5_%D0%B7%D0%B0%D0%B4%D0%B0%D0%BD%D0%B8%D0%B5_%D0%BF%D0%BE%D0%B8%D1%81%D0%BA_%D1%88%D0%B0%D1%85%D0%BC%D0%B0%D1%82%D0%BD%D0%BE%D0%B9_%D0%B4%D0%BE%D1%81%D0%BA%D0%B8.ipynb\" target=\"_parent\"><img src=\"https://colab.research.google.com/assets/colab-badge.svg\" alt=\"Open In Colab\"/></a>"
      ]
    },
    {
      "cell_type": "code",
      "metadata": {
        "colab": {
          "base_uri": "https://localhost:8080/"
        },
        "id": "JYxD6QZBmSU2",
        "outputId": "0b0daec1-6dfe-4f91-a02f-0a3c2c7563b8"
      },
      "source": [
        "from google.colab import drive # подключаем гугл драйв диск для загрузки файлов\n",
        "drive.mount('/content/drive')"
      ],
      "execution_count": null,
      "outputs": [
        {
          "output_type": "stream",
          "name": "stdout",
          "text": [
            "Mounted at /content/drive\n"
          ]
        }
      ]
    },
    {
      "cell_type": "code",
      "metadata": {
        "id": "lXHmsV6ImdS4"
      },
      "source": [
        "import numpy as np\n",
        "from tensorflow.keras.models import Sequential\n",
        "from tensorflow.keras.layers import Dense, Conv2D, MaxPooling2D, Flatten, Dropout, BatchNormalization # слои\n",
        "from tensorflow.keras.optimizers import Adam # оптимизатор\n",
        "from sklearn.model_selection import train_test_split # для разделения на выборки\n",
        "import matplotlib.pyplot as plt"
      ],
      "execution_count": null,
      "outputs": []
    },
    {
      "cell_type": "code",
      "metadata": {
        "id": "mXwycgO7mgB1"
      },
      "source": [
        "xtest = np.load('/content/drive/MyDrive/Базы/idChess/xtest.npy')\n",
        "ytrain = np.load('/content/drive/MyDrive/Базы/idChess/ytrain.npy')\n",
        "xtrain = np.load('/content/drive/MyDrive/Базы/idChess/xtrain.npy')"
      ],
      "execution_count": null,
      "outputs": []
    },
    {
      "cell_type": "markdown",
      "metadata": {
        "id": "NpMWlAa0o7DG"
      },
      "source": [
        "пока на гугл диск грузился xtrain, посмотрим с чем мы вообще работаем"
      ]
    },
    {
      "cell_type": "code",
      "metadata": {
        "colab": {
          "base_uri": "https://localhost:8080/"
        },
        "id": "g14QV5NdngFx",
        "outputId": "d9cdc8f0-6e74-4b92-9a68-2c969d94dd36"
      },
      "source": [
        "xtest.shape"
      ],
      "execution_count": null,
      "outputs": [
        {
          "output_type": "execute_result",
          "data": {
            "text/plain": [
              "(5, 256, 256, 1)"
            ]
          },
          "metadata": {},
          "execution_count": 3
        }
      ]
    },
    {
      "cell_type": "code",
      "metadata": {
        "colab": {
          "base_uri": "https://localhost:8080/"
        },
        "id": "AThoWi-AoVxz",
        "outputId": "ad1173aa-b638-4009-f3c8-cc1dcfc5988a"
      },
      "source": [
        "ytrain.shape"
      ],
      "execution_count": null,
      "outputs": [
        {
          "output_type": "execute_result",
          "data": {
            "text/plain": [
              "(15137, 8)"
            ]
          },
          "metadata": {},
          "execution_count": 4
        }
      ]
    },
    {
      "cell_type": "code",
      "metadata": {
        "colab": {
          "base_uri": "https://localhost:8080/"
        },
        "id": "JzOBjQTFoarF",
        "outputId": "b32c0c13-8b6b-4ce2-f323-f22a69110179"
      },
      "source": [
        "ytrain[0]"
      ],
      "execution_count": null,
      "outputs": [
        {
          "output_type": "execute_result",
          "data": {
            "text/plain": [
              "array([0.25737846, 0.01815612, 0.20182292, 0.9902275 , 0.8830729 ,\n",
              "       0.98169374, 0.78654516, 0.03677521], dtype=float32)"
            ]
          },
          "metadata": {},
          "execution_count": 5
        }
      ]
    },
    {
      "cell_type": "code",
      "metadata": {
        "colab": {
          "base_uri": "https://localhost:8080/"
        },
        "id": "rSgAa8W3tpJH",
        "outputId": "68dc398a-7425-4377-e024-6f45f6b85cbc"
      },
      "source": [
        "xtest[0]"
      ],
      "execution_count": null,
      "outputs": [
        {
          "output_type": "execute_result",
          "data": {
            "text/plain": [
              "array([[[ 15.],\n",
              "        [ 16.],\n",
              "        [ 14.],\n",
              "        ...,\n",
              "        [162.],\n",
              "        [165.],\n",
              "        [166.]],\n",
              "\n",
              "       [[ 15.],\n",
              "        [ 15.],\n",
              "        [ 16.],\n",
              "        ...,\n",
              "        [161.],\n",
              "        [165.],\n",
              "        [164.]],\n",
              "\n",
              "       [[ 16.],\n",
              "        [ 15.],\n",
              "        [ 14.],\n",
              "        ...,\n",
              "        [157.],\n",
              "        [165.],\n",
              "        [166.]],\n",
              "\n",
              "       ...,\n",
              "\n",
              "       [[ 71.],\n",
              "        [ 71.],\n",
              "        [ 70.],\n",
              "        ...,\n",
              "        [ 35.],\n",
              "        [ 33.],\n",
              "        [ 32.]],\n",
              "\n",
              "       [[ 72.],\n",
              "        [ 72.],\n",
              "        [ 72.],\n",
              "        ...,\n",
              "        [ 34.],\n",
              "        [ 33.],\n",
              "        [ 34.]],\n",
              "\n",
              "       [[ 73.],\n",
              "        [ 72.],\n",
              "        [ 72.],\n",
              "        ...,\n",
              "        [ 35.],\n",
              "        [ 35.],\n",
              "        [ 34.]]], dtype=float32)"
            ]
          },
          "metadata": {},
          "execution_count": 6
        }
      ]
    },
    {
      "cell_type": "markdown",
      "metadata": {
        "id": "0f7RVCmrpGoD"
      },
      "source": [
        "Рискну предположить, что x - массив, содержащий кадры съемки стола с доской преобразованные к  разрешениею 256х256 и в черно-белом формате. А в y - кооординаты 4 точек углов доски на изображении. Из этого и будем исходить\n",
        "\n",
        "x массивы не нормализованы, надо этим занятся"
      ]
    },
    {
      "cell_type": "code",
      "metadata": {
        "colab": {
          "base_uri": "https://localhost:8080/"
        },
        "id": "lvO7Bq_mu9AD",
        "outputId": "0c0486ac-172e-427c-a6eb-f2764d1b41ae"
      },
      "source": [
        "max(xtest[0][0]) # проверяем, это действительно похоже на оттенки серого от 0 до 255, нормализуем"
      ],
      "execution_count": null,
      "outputs": [
        {
          "output_type": "execute_result",
          "data": {
            "text/plain": [
              "array([199.], dtype=float32)"
            ]
          },
          "metadata": {},
          "execution_count": 7
        }
      ]
    },
    {
      "cell_type": "markdown",
      "metadata": {
        "id": "B5-Ie6X1vrOg"
      },
      "source": [
        "нормализуем данные"
      ]
    },
    {
      "cell_type": "code",
      "metadata": {
        "id": "W18GtqGSvTj0"
      },
      "source": [
        "xtest = xtest/255"
      ],
      "execution_count": null,
      "outputs": []
    },
    {
      "cell_type": "code",
      "metadata": {
        "id": "CfgLnbI0vXr1"
      },
      "source": [
        "xtrain = xtrain/255"
      ],
      "execution_count": null,
      "outputs": []
    },
    {
      "cell_type": "code",
      "metadata": {
        "id": "nmplp3e6pmVR"
      },
      "source": [
        "# для начала разобъем наши данные на обучающую и проверочную выборки, в соотношении 90/10. Все же нужно отслеживать как модель будет отрабатывать на данных, которые не видела.\n",
        "xtrain, xval, ytrain, yval = train_test_split(xtrain, ytrain, test_size=0.1)"
      ],
      "execution_count": null,
      "outputs": []
    },
    {
      "cell_type": "code",
      "metadata": {
        "id": "eNHLcsmsqYlU"
      },
      "source": [
        "# модель нейронной сети на keras, попробуем простую сверточную архитектуру\n",
        "model = Sequential()\n",
        "\n",
        "model.add(BatchNormalization(input_shape=(256,256,1)))\n",
        "model.add(Conv2D(128, (3, 3), padding='same', activation='relu'))\n",
        "#model.add(Conv2D(128, (3, 3), padding='same', activation='relu'))\n",
        "model.add(MaxPooling2D(pool_size=(2, 2)))\n",
        "model.add(Dropout(0.25))\n",
        "\n",
        "#model.add(Conv2D(512, (2, 2), padding='same', activation='relu'))\n",
        "#model.add(Conv2D(512, (2, 2), padding='same', activation='relu'))\n",
        "#model.add(MaxPooling2D(pool_size=(2, 2)))\n",
        "#model.add(Dropout(0.25))\n",
        "\n",
        "model.add(Conv2D(256, (3, 3), padding='same', activation='relu'))\n",
        "#model.add(Conv2D(256, (3, 3), padding='same', activation='relu'))\n",
        "model.add(MaxPooling2D(pool_size=(2, 2)))\n",
        "model.add(Conv2D(256, (3, 3), padding='same', activation='relu'))\n",
        "model.add(Dropout(0.25))\n",
        "\n",
        "model.add(Conv2D(512, (3, 3), padding='same', activation='relu'))\n",
        "#model.add(Conv2D(512, (3, 3), padding='same', activation='relu'))\n",
        "model.add(MaxPooling2D(pool_size=(3, 3)))\n",
        "model.add(Dropout(0.25))\n",
        "\n",
        "#model.add(Conv2D(2048, (4, 4), padding='same', activation='relu'))\n",
        "#model.add(MaxPooling2D(pool_size=(2, 2)))\n",
        "#model.add(Dropout(0.25))\n",
        "\n",
        "model.add(Flatten())\n",
        "model.add(BatchNormalization())\n",
        "#model.add(Dense(128, activation='relu'))\n",
        "#model.add(Dropout(0.2))\n",
        "model.add(Dense(256, activation='relu'))\n",
        "model.add(Dropout(0.2))\n",
        "model.add(Dense(8, activation='sigmoid'))\n",
        "\n",
        "model.compile(loss='mse', optimizer=Adam(learning_rate=0.0001), metrics=['accuracy'])"
      ],
      "execution_count": null,
      "outputs": []
    },
    {
      "cell_type": "code",
      "metadata": {
        "colab": {
          "base_uri": "https://localhost:8080/",
          "height": 816
        },
        "id": "z2FDmcj-ragi",
        "outputId": "c01cda3a-b13d-44af-ae68-901ca6255e92"
      },
      "source": [
        "# обучаем нейронку, выводим графики метрик\n",
        "history = model.fit(xtrain,ytrain,epochs=100,batch_size=32, validation_data=(xval, yval))\n",
        "\n",
        "plt.plot(history.history['accuracy'],label = 'Доля верных ответов на обучающейм наборе')\n",
        "plt.plot(history.history['val_accuracy'],label = 'Доля верных ответов на опроверочном наборе')\n",
        "plt.xlabel('Эпоха обучения')\n",
        "plt.ylabel('Доля верных ответов')\n",
        "plt.show()"
      ],
      "execution_count": null,
      "outputs": [
        {
          "output_type": "stream",
          "name": "stdout",
          "text": [
            "Epoch 1/100\n",
            "426/426 [==============================] - 455s 966ms/step - loss: 0.0142 - accuracy: 0.4882 - val_loss: 0.0045 - val_accuracy: 0.6017\n",
            "Epoch 2/100\n",
            "426/426 [==============================] - 396s 930ms/step - loss: 0.0015 - accuracy: 0.6509 - val_loss: 0.0020 - val_accuracy: 0.8045\n",
            "Epoch 3/100\n",
            "426/426 [==============================] - 396s 930ms/step - loss: 0.0012 - accuracy: 0.6904 - val_loss: 0.0015 - val_accuracy: 0.6546\n",
            "Epoch 4/100\n",
            "426/426 [==============================] - 396s 929ms/step - loss: 0.0010 - accuracy: 0.7019 - val_loss: 0.0012 - val_accuracy: 0.7933\n",
            "Epoch 5/100\n",
            "426/426 [==============================] - 395s 928ms/step - loss: 9.2508e-04 - accuracy: 0.7211 - val_loss: 0.0011 - val_accuracy: 0.8534\n",
            "Epoch 6/100\n",
            "426/426 [==============================] - 395s 928ms/step - loss: 8.5054e-04 - accuracy: 0.7310 - val_loss: 9.5385e-04 - val_accuracy: 0.7728\n",
            "Epoch 7/100\n",
            "426/426 [==============================] - 396s 929ms/step - loss: 7.7340e-04 - accuracy: 0.7485 - val_loss: 9.6571e-04 - val_accuracy: 0.8375\n",
            "Epoch 8/100\n",
            "426/426 [==============================] - 395s 928ms/step - loss: 7.2836e-04 - accuracy: 0.7602 - val_loss: 0.0013 - val_accuracy: 0.7186\n",
            "Epoch 9/100\n",
            "426/426 [==============================] - 396s 929ms/step - loss: 6.7586e-04 - accuracy: 0.7630 - val_loss: 9.7348e-04 - val_accuracy: 0.8567\n",
            "Epoch 10/100\n",
            "426/426 [==============================] - 395s 928ms/step - loss: 6.2125e-04 - accuracy: 0.7672 - val_loss: 6.6054e-04 - val_accuracy: 0.9042\n",
            "Epoch 11/100\n",
            "426/426 [==============================] - 395s 928ms/step - loss: 5.7171e-04 - accuracy: 0.7781 - val_loss: 7.6345e-04 - val_accuracy: 0.9115\n",
            "Epoch 12/100\n",
            "426/426 [==============================] - 395s 927ms/step - loss: 5.4752e-04 - accuracy: 0.7792 - val_loss: 6.2051e-04 - val_accuracy: 0.9036\n",
            "Epoch 13/100\n",
            "  3/426 [..............................] - ETA: 6:21 - loss: 5.2231e-04 - accuracy: 0.7188"
          ]
        },
        {
          "output_type": "error",
          "ename": "KeyboardInterrupt",
          "evalue": "ignored",
          "traceback": [
            "\u001b[0;31m---------------------------------------------------------------------------\u001b[0m",
            "\u001b[0;31mKeyboardInterrupt\u001b[0m                         Traceback (most recent call last)",
            "\u001b[0;32m<ipython-input-12-5d99f8dc2beb>\u001b[0m in \u001b[0;36m<module>\u001b[0;34m()\u001b[0m\n\u001b[1;32m      1\u001b[0m \u001b[0;31m# обучаем нейронку, выводим графики метрик\u001b[0m\u001b[0;34m\u001b[0m\u001b[0;34m\u001b[0m\u001b[0;34m\u001b[0m\u001b[0m\n\u001b[0;32m----> 2\u001b[0;31m \u001b[0mhistory\u001b[0m \u001b[0;34m=\u001b[0m \u001b[0mmodel\u001b[0m\u001b[0;34m.\u001b[0m\u001b[0mfit\u001b[0m\u001b[0;34m(\u001b[0m\u001b[0mxtrain\u001b[0m\u001b[0;34m,\u001b[0m\u001b[0mytrain\u001b[0m\u001b[0;34m,\u001b[0m\u001b[0mepochs\u001b[0m\u001b[0;34m=\u001b[0m\u001b[0;36m100\u001b[0m\u001b[0;34m,\u001b[0m\u001b[0mbatch_size\u001b[0m\u001b[0;34m=\u001b[0m\u001b[0;36m32\u001b[0m\u001b[0;34m,\u001b[0m \u001b[0mvalidation_data\u001b[0m\u001b[0;34m=\u001b[0m\u001b[0;34m(\u001b[0m\u001b[0mxval\u001b[0m\u001b[0;34m,\u001b[0m \u001b[0myval\u001b[0m\u001b[0;34m)\u001b[0m\u001b[0;34m)\u001b[0m\u001b[0;34m\u001b[0m\u001b[0;34m\u001b[0m\u001b[0m\n\u001b[0m\u001b[1;32m      3\u001b[0m \u001b[0;34m\u001b[0m\u001b[0m\n\u001b[1;32m      4\u001b[0m \u001b[0mplt\u001b[0m\u001b[0;34m.\u001b[0m\u001b[0mplot\u001b[0m\u001b[0;34m(\u001b[0m\u001b[0mhistory\u001b[0m\u001b[0;34m.\u001b[0m\u001b[0mhistory\u001b[0m\u001b[0;34m[\u001b[0m\u001b[0;34m'accuracy'\u001b[0m\u001b[0;34m]\u001b[0m\u001b[0;34m,\u001b[0m\u001b[0mlabel\u001b[0m \u001b[0;34m=\u001b[0m \u001b[0;34m'Доля верных ответов на обучающейм наборе'\u001b[0m\u001b[0;34m)\u001b[0m\u001b[0;34m\u001b[0m\u001b[0;34m\u001b[0m\u001b[0m\n\u001b[1;32m      5\u001b[0m \u001b[0mplt\u001b[0m\u001b[0;34m.\u001b[0m\u001b[0mplot\u001b[0m\u001b[0;34m(\u001b[0m\u001b[0mhistory\u001b[0m\u001b[0;34m.\u001b[0m\u001b[0mhistory\u001b[0m\u001b[0;34m[\u001b[0m\u001b[0;34m'val_accuracy'\u001b[0m\u001b[0;34m]\u001b[0m\u001b[0;34m,\u001b[0m\u001b[0mlabel\u001b[0m \u001b[0;34m=\u001b[0m \u001b[0;34m'Доля верных ответов на опроверочном наборе'\u001b[0m\u001b[0;34m)\u001b[0m\u001b[0;34m\u001b[0m\u001b[0;34m\u001b[0m\u001b[0m\n",
            "\u001b[0;32m/usr/local/lib/python3.7/dist-packages/keras/engine/training.py\u001b[0m in \u001b[0;36mfit\u001b[0;34m(self, x, y, batch_size, epochs, verbose, callbacks, validation_split, validation_data, shuffle, class_weight, sample_weight, initial_epoch, steps_per_epoch, validation_steps, validation_batch_size, validation_freq, max_queue_size, workers, use_multiprocessing)\u001b[0m\n\u001b[1;32m   1182\u001b[0m                 _r=1):\n\u001b[1;32m   1183\u001b[0m               \u001b[0mcallbacks\u001b[0m\u001b[0;34m.\u001b[0m\u001b[0mon_train_batch_begin\u001b[0m\u001b[0;34m(\u001b[0m\u001b[0mstep\u001b[0m\u001b[0;34m)\u001b[0m\u001b[0;34m\u001b[0m\u001b[0;34m\u001b[0m\u001b[0m\n\u001b[0;32m-> 1184\u001b[0;31m               \u001b[0mtmp_logs\u001b[0m \u001b[0;34m=\u001b[0m \u001b[0mself\u001b[0m\u001b[0;34m.\u001b[0m\u001b[0mtrain_function\u001b[0m\u001b[0;34m(\u001b[0m\u001b[0miterator\u001b[0m\u001b[0;34m)\u001b[0m\u001b[0;34m\u001b[0m\u001b[0;34m\u001b[0m\u001b[0m\n\u001b[0m\u001b[1;32m   1185\u001b[0m               \u001b[0;32mif\u001b[0m \u001b[0mdata_handler\u001b[0m\u001b[0;34m.\u001b[0m\u001b[0mshould_sync\u001b[0m\u001b[0;34m:\u001b[0m\u001b[0;34m\u001b[0m\u001b[0;34m\u001b[0m\u001b[0m\n\u001b[1;32m   1186\u001b[0m                 \u001b[0mcontext\u001b[0m\u001b[0;34m.\u001b[0m\u001b[0masync_wait\u001b[0m\u001b[0;34m(\u001b[0m\u001b[0;34m)\u001b[0m\u001b[0;34m\u001b[0m\u001b[0;34m\u001b[0m\u001b[0m\n",
            "\u001b[0;32m/usr/local/lib/python3.7/dist-packages/tensorflow/python/eager/def_function.py\u001b[0m in \u001b[0;36m__call__\u001b[0;34m(self, *args, **kwds)\u001b[0m\n\u001b[1;32m    883\u001b[0m \u001b[0;34m\u001b[0m\u001b[0m\n\u001b[1;32m    884\u001b[0m       \u001b[0;32mwith\u001b[0m \u001b[0mOptionalXlaContext\u001b[0m\u001b[0;34m(\u001b[0m\u001b[0mself\u001b[0m\u001b[0;34m.\u001b[0m\u001b[0m_jit_compile\u001b[0m\u001b[0;34m)\u001b[0m\u001b[0;34m:\u001b[0m\u001b[0;34m\u001b[0m\u001b[0;34m\u001b[0m\u001b[0m\n\u001b[0;32m--> 885\u001b[0;31m         \u001b[0mresult\u001b[0m \u001b[0;34m=\u001b[0m \u001b[0mself\u001b[0m\u001b[0;34m.\u001b[0m\u001b[0m_call\u001b[0m\u001b[0;34m(\u001b[0m\u001b[0;34m*\u001b[0m\u001b[0margs\u001b[0m\u001b[0;34m,\u001b[0m \u001b[0;34m**\u001b[0m\u001b[0mkwds\u001b[0m\u001b[0;34m)\u001b[0m\u001b[0;34m\u001b[0m\u001b[0;34m\u001b[0m\u001b[0m\n\u001b[0m\u001b[1;32m    886\u001b[0m \u001b[0;34m\u001b[0m\u001b[0m\n\u001b[1;32m    887\u001b[0m       \u001b[0mnew_tracing_count\u001b[0m \u001b[0;34m=\u001b[0m \u001b[0mself\u001b[0m\u001b[0;34m.\u001b[0m\u001b[0mexperimental_get_tracing_count\u001b[0m\u001b[0;34m(\u001b[0m\u001b[0;34m)\u001b[0m\u001b[0;34m\u001b[0m\u001b[0;34m\u001b[0m\u001b[0m\n",
            "\u001b[0;32m/usr/local/lib/python3.7/dist-packages/tensorflow/python/eager/def_function.py\u001b[0m in \u001b[0;36m_call\u001b[0;34m(self, *args, **kwds)\u001b[0m\n\u001b[1;32m    915\u001b[0m       \u001b[0;31m# In this case we have created variables on the first call, so we run the\u001b[0m\u001b[0;34m\u001b[0m\u001b[0;34m\u001b[0m\u001b[0;34m\u001b[0m\u001b[0m\n\u001b[1;32m    916\u001b[0m       \u001b[0;31m# defunned version which is guaranteed to never create variables.\u001b[0m\u001b[0;34m\u001b[0m\u001b[0;34m\u001b[0m\u001b[0;34m\u001b[0m\u001b[0m\n\u001b[0;32m--> 917\u001b[0;31m       \u001b[0;32mreturn\u001b[0m \u001b[0mself\u001b[0m\u001b[0;34m.\u001b[0m\u001b[0m_stateless_fn\u001b[0m\u001b[0;34m(\u001b[0m\u001b[0;34m*\u001b[0m\u001b[0margs\u001b[0m\u001b[0;34m,\u001b[0m \u001b[0;34m**\u001b[0m\u001b[0mkwds\u001b[0m\u001b[0;34m)\u001b[0m  \u001b[0;31m# pylint: disable=not-callable\u001b[0m\u001b[0;34m\u001b[0m\u001b[0;34m\u001b[0m\u001b[0m\n\u001b[0m\u001b[1;32m    918\u001b[0m     \u001b[0;32melif\u001b[0m \u001b[0mself\u001b[0m\u001b[0;34m.\u001b[0m\u001b[0m_stateful_fn\u001b[0m \u001b[0;32mis\u001b[0m \u001b[0;32mnot\u001b[0m \u001b[0;32mNone\u001b[0m\u001b[0;34m:\u001b[0m\u001b[0;34m\u001b[0m\u001b[0;34m\u001b[0m\u001b[0m\n\u001b[1;32m    919\u001b[0m       \u001b[0;31m# Release the lock early so that multiple threads can perform the call\u001b[0m\u001b[0;34m\u001b[0m\u001b[0;34m\u001b[0m\u001b[0;34m\u001b[0m\u001b[0m\n",
            "\u001b[0;32m/usr/local/lib/python3.7/dist-packages/tensorflow/python/eager/function.py\u001b[0m in \u001b[0;36m__call__\u001b[0;34m(self, *args, **kwargs)\u001b[0m\n\u001b[1;32m   3038\u001b[0m        filtered_flat_args) = self._maybe_define_function(args, kwargs)\n\u001b[1;32m   3039\u001b[0m     return graph_function._call_flat(\n\u001b[0;32m-> 3040\u001b[0;31m         filtered_flat_args, captured_inputs=graph_function.captured_inputs)  # pylint: disable=protected-access\n\u001b[0m\u001b[1;32m   3041\u001b[0m \u001b[0;34m\u001b[0m\u001b[0m\n\u001b[1;32m   3042\u001b[0m   \u001b[0;34m@\u001b[0m\u001b[0mproperty\u001b[0m\u001b[0;34m\u001b[0m\u001b[0;34m\u001b[0m\u001b[0m\n",
            "\u001b[0;32m/usr/local/lib/python3.7/dist-packages/tensorflow/python/eager/function.py\u001b[0m in \u001b[0;36m_call_flat\u001b[0;34m(self, args, captured_inputs, cancellation_manager)\u001b[0m\n\u001b[1;32m   1962\u001b[0m       \u001b[0;31m# No tape is watching; skip to running the function.\u001b[0m\u001b[0;34m\u001b[0m\u001b[0;34m\u001b[0m\u001b[0;34m\u001b[0m\u001b[0m\n\u001b[1;32m   1963\u001b[0m       return self._build_call_outputs(self._inference_function.call(\n\u001b[0;32m-> 1964\u001b[0;31m           ctx, args, cancellation_manager=cancellation_manager))\n\u001b[0m\u001b[1;32m   1965\u001b[0m     forward_backward = self._select_forward_and_backward_functions(\n\u001b[1;32m   1966\u001b[0m         \u001b[0margs\u001b[0m\u001b[0;34m,\u001b[0m\u001b[0;34m\u001b[0m\u001b[0;34m\u001b[0m\u001b[0m\n",
            "\u001b[0;32m/usr/local/lib/python3.7/dist-packages/tensorflow/python/eager/function.py\u001b[0m in \u001b[0;36mcall\u001b[0;34m(self, ctx, args, cancellation_manager)\u001b[0m\n\u001b[1;32m    594\u001b[0m               \u001b[0minputs\u001b[0m\u001b[0;34m=\u001b[0m\u001b[0margs\u001b[0m\u001b[0;34m,\u001b[0m\u001b[0;34m\u001b[0m\u001b[0;34m\u001b[0m\u001b[0m\n\u001b[1;32m    595\u001b[0m               \u001b[0mattrs\u001b[0m\u001b[0;34m=\u001b[0m\u001b[0mattrs\u001b[0m\u001b[0;34m,\u001b[0m\u001b[0;34m\u001b[0m\u001b[0;34m\u001b[0m\u001b[0m\n\u001b[0;32m--> 596\u001b[0;31m               ctx=ctx)\n\u001b[0m\u001b[1;32m    597\u001b[0m         \u001b[0;32melse\u001b[0m\u001b[0;34m:\u001b[0m\u001b[0;34m\u001b[0m\u001b[0;34m\u001b[0m\u001b[0m\n\u001b[1;32m    598\u001b[0m           outputs = execute.execute_with_cancellation(\n",
            "\u001b[0;32m/usr/local/lib/python3.7/dist-packages/tensorflow/python/eager/execute.py\u001b[0m in \u001b[0;36mquick_execute\u001b[0;34m(op_name, num_outputs, inputs, attrs, ctx, name)\u001b[0m\n\u001b[1;32m     58\u001b[0m     \u001b[0mctx\u001b[0m\u001b[0;34m.\u001b[0m\u001b[0mensure_initialized\u001b[0m\u001b[0;34m(\u001b[0m\u001b[0;34m)\u001b[0m\u001b[0;34m\u001b[0m\u001b[0;34m\u001b[0m\u001b[0m\n\u001b[1;32m     59\u001b[0m     tensors = pywrap_tfe.TFE_Py_Execute(ctx._handle, device_name, op_name,\n\u001b[0;32m---> 60\u001b[0;31m                                         inputs, attrs, num_outputs)\n\u001b[0m\u001b[1;32m     61\u001b[0m   \u001b[0;32mexcept\u001b[0m \u001b[0mcore\u001b[0m\u001b[0;34m.\u001b[0m\u001b[0m_NotOkStatusException\u001b[0m \u001b[0;32mas\u001b[0m \u001b[0me\u001b[0m\u001b[0;34m:\u001b[0m\u001b[0;34m\u001b[0m\u001b[0;34m\u001b[0m\u001b[0m\n\u001b[1;32m     62\u001b[0m     \u001b[0;32mif\u001b[0m \u001b[0mname\u001b[0m \u001b[0;32mis\u001b[0m \u001b[0;32mnot\u001b[0m \u001b[0;32mNone\u001b[0m\u001b[0;34m:\u001b[0m\u001b[0;34m\u001b[0m\u001b[0;34m\u001b[0m\u001b[0m\n",
            "\u001b[0;31mKeyboardInterrupt\u001b[0m: "
          ]
        }
      ]
    },
    {
      "cell_type": "markdown",
      "metadata": {
        "id": "EBOeQIQZuMt9"
      },
      "source": [
        "Останавливаю обучение на этом этапе, сохраняю модель. Дальнейшие попытки улучшить точность были, но ощутимого результат не принесли."
      ]
    },
    {
      "cell_type": "code",
      "metadata": {
        "id": "cFiBljMF9iJ9"
      },
      "source": [
        "model.save('/content/drive/MyDrive/Базы/idChess/model.h5')"
      ],
      "execution_count": null,
      "outputs": []
    },
    {
      "cell_type": "code",
      "metadata": {
        "id": "-v6_TRMrPhDV"
      },
      "source": [
        "model.load_weights('/content/drive/MyDrive/Базы/idChess/model.h5')"
      ],
      "execution_count": null,
      "outputs": []
    },
    {
      "cell_type": "code",
      "metadata": {
        "colab": {
          "base_uri": "https://localhost:8080/"
        },
        "id": "O9JblDUDr2q_",
        "outputId": "28261815-e434-4c52-af5d-abb05fb343ac"
      },
      "source": [
        "pred = model.predict(xval[None,0])\n",
        "print('Предсказанные значения ',pred)\n",
        "print('Реальные значения ',yval[0])"
      ],
      "execution_count": null,
      "outputs": [
        {
          "output_type": "stream",
          "name": "stdout",
          "text": [
            "Предсказанные значения  [[0.25678915 0.0384602  0.20021799 0.9826052  0.8753261  0.9826181\n",
            "  0.7746645  0.07457855]]\n",
            "Реальные значения  [0.25668404 0.01858667 0.19418402 1.0153754  0.8809896  1.0135162\n",
            " 0.7858507  0.06968085]\n"
          ]
        }
      ]
    },
    {
      "cell_type": "code",
      "metadata": {
        "colab": {
          "base_uri": "https://localhost:8080/"
        },
        "id": "8-wLE3Onq2Lb",
        "outputId": "c8fa56f1-99cf-4dfb-9d49-45e158bc8e21"
      },
      "source": [
        "pred = model.predict(xval[None,110])\n",
        "print('Предсказанные значения ',pred)\n",
        "print('Реальные значения ',yval[110])"
      ],
      "execution_count": null,
      "outputs": [
        {
          "output_type": "stream",
          "name": "stdout",
          "text": [
            "Предсказанные значения  [[0.26279688 0.06834409 0.19035444 0.90789914 0.8087914  0.91174686\n",
            "  0.7307103  0.08033356]]\n",
            "Реальные значения  [0.20737848 0.0466999  0.12682292 0.8956314  0.7421007  0.88015604\n",
            " 0.6796007  0.05480601]\n"
          ]
        }
      ]
    },
    {
      "cell_type": "markdown",
      "metadata": {
        "id": "GBvX8g1isAQ6"
      },
      "source": [
        "Если представить результаты как чуть более понятные мне баундинг боксы, а не в координаты вершин трапеции (а в кадре квадратная доска это трапеция) то видим, что реальные и предсказанные трапеции имеют очень большуя площадь пересечения.\n",
        "\n",
        "Писать кастомную метрику под площадь пересечения трапеций я сейчас не буду, но при необходимости серьезно работать с этой задачей оно того стоило бы."
      ]
    },
    {
      "cell_type": "code",
      "metadata": {
        "colab": {
          "base_uri": "https://localhost:8080/"
        },
        "id": "3WHBz8lotxgH",
        "outputId": "bf395277-9c47-435f-c461-f2754f3c468c"
      },
      "source": [
        "# выведу требуемые от меня значения предсказаний для xtest\n",
        "for i in range(5):\n",
        "  pred = model.predict(xtest[None,i])\n",
        "  print('Предсказанные значения для {} элемента: '.format(i),pred)"
      ],
      "execution_count": null,
      "outputs": [
        {
          "output_type": "stream",
          "name": "stdout",
          "text": [
            "Предсказанные значения для 0 элемента:  [[0.26990706 0.09408554 0.21018893 0.94276124 0.8179549  0.9358732\n",
            "  0.7285194  0.10662499]]\n",
            "Предсказанные значения для 1 элемента:  [[0.29878208 0.12645423 0.23113942 0.8727851  0.80574757 0.8814908\n",
            "  0.7284456  0.13502204]]\n",
            "Предсказанные значения для 2 элемента:  [[0.30162638 0.06853926 0.2496838  0.8922694  0.86285734 0.9095494\n",
            "  0.78649247 0.07733265]]\n",
            "Предсказанные значения для 3 элемента:  [[0.31665593 0.10489169 0.26481417 0.8994398  0.8630518  0.91423607\n",
            "  0.77668446 0.11559457]]\n",
            "Предсказанные значения для 4 элемента:  [[0.29399592 0.05963835 0.24938872 0.9150062  0.83481103 0.9205364\n",
            "  0.77171564 0.0752793 ]]\n"
          ]
        }
      ]
    }
  ]
}
